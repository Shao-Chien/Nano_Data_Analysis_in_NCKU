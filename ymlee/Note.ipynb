{
 "metadata": {
  "name": "",
  "signature": "sha256:2b8f4fa99bf0ceb5107ae7cd2ec5dd784ed394d812caa967d53761188df4c598"
 },
 "nbformat": 3,
 "nbformat_minor": 0,
 "worksheets": [
  {
   "cells": [
    {
     "cell_type": "markdown",
     "metadata": {},
     "source": [
      "#Markdown\u5feb\u6377\u9375\u8aaa\u660e\n",
      "Shift-Enter : run cell\n",
      "\n",
      "Ctrl-Enter : run cell in-place\n",
      "\n",
      "Alt-Enter : run cell, insert below\n",
      "\n",
      "Ctrl-m x : cut cell\n",
      "\n",
      "Ctrl-m c : copy cell\n",
      "\n",
      "Ctrl-m v : paste cell\n",
      "\n",
      "Ctrl-m d : delete cell\n",
      "\n",
      "Ctrl-m a : insert cell above\n",
      "\n",
      "Ctrl-m b : insert cell below\n",
      "\n",
      "Ctrl-m o : toggle output\n",
      "\n",
      "Ctrl-m O : toggle output scroll\n",
      "\n",
      "Ctrl-m l : toggle line numbers\n",
      "\n",
      "Ctrl-m s : save notebook\n",
      "\n",
      "Ctrl-m j : move cell down\n",
      "\n",
      "Ctrl-m k : move cell up\n",
      "\n",
      "Ctrl-m y : code cell\n",
      "\n",
      "Ctrl-m m : markdown cell\n",
      "\n",
      "Ctrl-m t : raw cell\n",
      "\n",
      "Ctrl-m 1-6 : heading 1-6 cell\n",
      "\n",
      "Ctrl-m p : select previous\n",
      "\n",
      "Ctrl-m n : select next\n",
      "\n",
      "Ctrl-m i : interrupt kernel\n",
      "\n",
      "Ctrl-m . : restart kernel\n",
      "\n",
      "Ctrl-m h : show keyboard\n"
     ]
    },
    {
     "cell_type": "code",
     "collapsed": false,
     "input": [],
     "language": "python",
     "metadata": {},
     "outputs": []
    }
   ],
   "metadata": {}
  }
 ]
}